{
 "cells": [
  {
   "cell_type": "code",
   "execution_count": 1,
   "id": "4a1e3e9d",
   "metadata": {},
   "outputs": [
    {
     "data": {
      "text/plain": [
       "4"
      ]
     },
     "execution_count": 1,
     "metadata": {},
     "output_type": "execute_result"
    }
   ],
   "source": [
    "N = ord(\"D\") % 5 + 1\n",
    "N"
   ]
  },
  {
   "cell_type": "code",
   "execution_count": 9,
   "id": "04c5b985",
   "metadata": {},
   "outputs": [],
   "source": [
    "import cv2 as cv\n",
    "from PIL import Image, ImageDraw\n",
    "import numpy as np\n",
    "\n",
    "face_cascade = cv.CascadeClassifier(cv.data.haarcascades + 'haarcascade_frontalface_default.xml')\n",
    "eye_cascade = cv.CascadeClassifier(cv.data.haarcascades + 'haarcascade_eye.xml')\n",
    "\n",
    "def process_image(input_image_path, output_image_path, glasses_color='magenta', line_width=5):\n",
    "    image = cv.imread(input_image_path)\n",
    "    gray_image = cv.cvtColor(image, cv.COLOR_BGR2GRAY)\n",
    "\n",
    "    faces = face_cascade.detectMultiScale(gray_image, scaleFactor=1.1, minNeighbors=5, minSize=(30, 30))\n",
    "    \n",
    "    for (x, y, w, h) in faces:\n",
    "        roi_gray = gray_image[y:y+h, x:x+w]\n",
    "        roi_color = image[y:y+h, x:x+w]\n",
    "\n",
    "        eyes = eye_cascade.detectMultiScale(roi_gray, scaleFactor=1.1, minNeighbors=10, minSize=(20, 20))\n",
    "\n",
    "        if len(eyes) >= 2:\n",
    "            pil_image = Image.fromarray(cv.cvtColor(image, cv.COLOR_BGR2RGB))\n",
    "            draw = ImageDraw.Draw(pil_image)\n",
    "\n",
    "            eyes = sorted(eyes, key=lambda e: e[0])\n",
    "            eye_centers = [\n",
    "                (x + ex + ew // 2, y + ey + eh // 2)\n",
    "                for (ex, ey, ew, eh) in eyes[:2]\n",
    "            ]\n",
    "\n",
    "            eye_size = max(eyes[0][2], eyes[0][3], eyes[1][2], eyes[1][3])\n",
    "            distance = eye_centers[1][0] - eye_centers[0][0]\n",
    "            glasses_width, glasses_height = distance + eye_size, eye_size\n",
    "\n",
    "            draw.ellipse(\n",
    "                [eye_centers[0][0] - glasses_width // 4, eye_centers[0][1] - glasses_height // 2,\n",
    "                 eye_centers[0][0] + glasses_width // 4, eye_centers[0][1] + glasses_height // 2],\n",
    "                outline=glasses_color, width=line_width\n",
    "            )\n",
    "\n",
    "            draw.ellipse(\n",
    "                [eye_centers[1][0] - glasses_width // 4, eye_centers[1][1] - glasses_height // 2,\n",
    "                 eye_centers[1][0] + glasses_width // 4, eye_centers[1][1] + glasses_height // 2],\n",
    "                outline=glasses_color, width=line_width\n",
    "            )\n",
    "\n",
    "            draw.line(\n",
    "                [(\n",
    "                    eye_centers[0][0] + glasses_width // 4, eye_centers[0][1]),\n",
    "                 (eye_centers[1][0] - glasses_width // 4, eye_centers[1][1])],\n",
    "                fill=glasses_color, width=line_width\n",
    "            )\n",
    "\n",
    "            cv_image = cv.cvtColor(np.array(pil_image), cv.COLOR_RGB2BGR)\n",
    "\n",
    "            face_center = (x + w // 2, y + h // 2)\n",
    "            crop_x1, crop_y1 = max(face_center[0] - 150, 0), max(face_center[1] - 150, 0)\n",
    "            crop_x2, crop_y2 = min(face_center[0] + 150, cv_image.shape[1]), min(face_center[1] + 150, cv_image.shape[0])\n",
    "            cropped = cv_image[crop_y1:crop_y2, crop_x1:crop_x2]\n",
    "            resized = cv.resize(cropped, (600, 600), interpolation=cv.INTER_AREA)\n",
    "\n",
    "            cv.imwrite(output_image_path, resized)\n",
    "\n",
    "input_image_path = \"images/longbottom.jpg\"\n",
    "output_image_path = \"images/longbottom_final.jpg\"\n",
    "process_image(input_image_path, output_image_path)"
   ]
  }
 ],
 "metadata": {
  "kernelspec": {
   "display_name": "Python 3 (ipykernel)",
   "language": "python",
   "name": "python3"
  },
  "language_info": {
   "codemirror_mode": {
    "name": "ipython",
    "version": 3
   },
   "file_extension": ".py",
   "mimetype": "text/x-python",
   "name": "python",
   "nbconvert_exporter": "python",
   "pygments_lexer": "ipython3",
   "version": "3.11.5"
  }
 },
 "nbformat": 4,
 "nbformat_minor": 5
}
